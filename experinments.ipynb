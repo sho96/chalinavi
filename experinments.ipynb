{
 "cells": [
  {
   "cell_type": "code",
   "execution_count": 1,
   "metadata": {},
   "outputs": [],
   "source": [
    "import numpy as np"
   ]
  },
  {
   "cell_type": "code",
   "execution_count": null,
   "metadata": {},
   "outputs": [],
   "source": [
    "danger_loc=[[1, 1,\"break\"],[2, 3,\"break\"],[139.2321,36.5470,\"break\"],[139.2401,36.5300,\"break\"],[139.2401,36.5600,\"break\"]]\n",
    "w=0.0001\n",
    "h=0.0002"
   ]
  },
  {
   "cell_type": "code",
   "execution_count": 12,
   "metadata": {},
   "outputs": [
    {
     "data": {
      "text/plain": [
       "True"
      ]
     },
     "execution_count": 12,
     "metadata": {},
     "output_type": "execute_result"
    }
   ],
   "source": [
    "isIntersecting((2,3), (3,2), (3,4))"
   ]
  },
  {
   "cell_type": "code",
   "execution_count": 13,
   "metadata": {},
   "outputs": [
    {
     "data": {
      "text/plain": [
       "True"
      ]
     },
     "execution_count": 13,
     "metadata": {},
     "output_type": "execute_result"
    }
   ],
   "source": [
    "countIntersections((2,3), [(1,2), (3,2), (3,4), (1,4)])"
   ]
  },
  {
   "cell_type": "code",
   "execution_count": 7,
   "metadata": {},
   "outputs": [
    {
     "data": {
      "text/plain": [
       "[]"
      ]
     },
     "execution_count": 7,
     "metadata": {},
     "output_type": "execute_result"
    }
   ],
   "source": [
    "extractLocations(danger_loc, points)"
   ]
  },
  {
   "cell_type": "code",
   "execution_count": null,
   "metadata": {},
   "outputs": [],
   "source": [
    "import numpy as np\n",
    "def side(origin,user_theta,w):\n",
    "  x1= origin[1] + w*np.sin(np.deg2rad(user_theta))\n",
    "  y1= origin[2] + w*np.cos(np.deg2rad(user_theta))\n",
    "  x2=-x1\n",
    "  y2=-y1\n",
    "  origin_a1=(x1,x2)\n",
    "  origin_a2=(y1,y2)\n",
    "  origin_a=(origin_a1,origin_a2)\n",
    "  return origin_a\n",
    "def shift(origin,user_theta,h):\n",
    "  x1= origin[1] + h*np.sin(np.deg2rad(90-user_theta))\n",
    "  y1= origin[2] + w*np.cos(np.deg2rad(90-user_theta))\n",
    "  x2=-x1\n",
    "  y2=-y1\n",
    "  origin_a1=(x1,x2)\n",
    "  origin_a2=(y1,y2)\n",
    "  return origin_b\n"
   ]
  },
  {
   "cell_type": "code",
   "execution_count": null,
   "metadata": {},
   "outputs": [],
   "source": []
  }
 ],
 "metadata": {
  "kernelspec": {
   "display_name": "Python 3",
   "language": "python",
   "name": "python3"
  },
  "language_info": {
   "codemirror_mode": {
    "name": "ipython",
    "version": 3
   },
   "file_extension": ".py",
   "mimetype": "text/x-python",
   "name": "python",
   "nbconvert_exporter": "python",
   "pygments_lexer": "ipython3",
   "version": "3.9.13"
  },
  "orig_nbformat": 4
 },
 "nbformat": 4,
 "nbformat_minor": 2
}
